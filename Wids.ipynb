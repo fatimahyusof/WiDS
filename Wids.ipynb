{
 "cells": [
  {
   "cell_type": "code",
   "execution_count": 3,
   "id": "8412af62",
   "metadata": {},
   "outputs": [],
   "source": [
    "import numpy as np\n",
    "import pandas as pd\n",
    "import seaborn as sns\n",
    "\n",
    "import os\n",
    "import matplotlib.pyplot as plt\n",
    "\n",
    "import sklearn\n",
    "from sklearn.svm import SVC\n",
    "from sklearn.metrics import balanced_accuracy_score, roc_auc_score, accuracy_score, confusion_matrix, roc_curve\n",
    "from scipy.stats import zscore, pearsonr, uniform\n",
    "from sklearn.linear_model import Ridge\n",
    "from sklearn.model_selection import KFold, StratifiedKFold, RandomizedSearchCV\n",
    "\n",
    "from scipy.io import loadmat\n",
    "\n",
    "from sklearn.model_selection import train_test_split\n",
    "from sklearn.preprocessing import StandardScaler\n",
    "from sklearn.metrics import roc_auc_score\n",
    "from sklearn.metrics import accuracy_score"
   ]
  },
  {
   "cell_type": "code",
   "execution_count": 18,
   "id": "48c0dafa",
   "metadata": {
    "scrolled": true
   },
   "outputs": [],
   "source": [
    "##LOAD TRAINING DATAFRAME\n",
    "\n",
    "# categorical variable train dataframe\n",
    "\n",
    "file_path_trainC = \"C:/Users/sitif/Downloads/WIDS/widsdatathon2025/TRAIN/TRAIN_CATEGORICAL_METADATA.xlsx\"\n",
    "train_cat = pd.read_excel(file_path_trainC)\n",
    "train_cat.head()\n",
    "\n",
    "# Functional Connectome Matrices\n",
    "\n",
    "file_path_trainFCM = \"C:/Users/sitif/Downloads/WIDS/widsdatathon2025/TRAIN/TRAIN_FUNCTIONAL_CONNECTOME_MATRICES.csv\"\n",
    "train_FCM = pd.read_csv(file_path_trainFCM)\n",
    "train_FCM.head()\n",
    "\n",
    "# Quantitative varaible train dataframe\n",
    "\n",
    "file_path_trainQ = \"C:/Users/sitif/Downloads/WIDS/widsdatathon2025/TRAIN/TRAIN_QUANTITATIVE_METADATA.xlsx\"\n",
    "train_Quant = pd.read_excel(file_path_trainQ)\n",
    "train_Quant.head()\n",
    "\n",
    "# ADHD and Sex solutions dataframe for model training\n",
    "\n",
    "file_path_trainS = \"C:/Users/sitif/Downloads/WIDS/widsdatathon2025/TRAIN/TRAINING_SOLUTIONS.xlsx\"\n",
    "train_Solutions = pd.read_excel(file_path_trainS)\n",
    "train_Solutions.head()"
   ]
  },
  {
   "cell_type": "code",
   "execution_count": 20,
   "id": "6e15d708",
   "metadata": {},
   "outputs": [],
   "source": [
    "train_cat.head()"
   ]
  },
  {
   "cell_type": "code",
   "execution_count": null,
   "id": "56b3abe1",
   "metadata": {},
   "outputs": [],
   "source": [
    "train_FCM.head()"
   ]
  },
  {
   "cell_type": "code",
   "execution_count": null,
   "id": "a93a8757",
   "metadata": {},
   "outputs": [],
   "source": [
    "train_Quant.head()"
   ]
  },
  {
   "cell_type": "code",
   "execution_count": null,
   "id": "32f11569",
   "metadata": {},
   "outputs": [],
   "source": [
    "train_Solutions.head()"
   ]
  },
  {
   "cell_type": "code",
   "execution_count": 30,
   "id": "226310ef",
   "metadata": {
    "scrolled": true
   },
   "outputs": [],
   "source": [
    "##LOAD TEST DATAFRAME\n",
    "\n",
    "# categorical variable test dataframe\n",
    "\n",
    "file_path_testC = \"C:/Users/sitif/Downloads/WIDS/widsdatathon2025/TEST/TEST_CATEGORICAL.xlsx\"\n",
    "test_cat = pd.read_excel(file_path_testC)\n",
    "\n",
    "# Functional Connectome Matrices\n",
    "\n",
    "file_path_testFCM = \"C:/Users/sitif/Downloads/WIDS/widsdatathon2025/TEST/TEST_FUNCTIONAL_CONNECTOME_MATRICES.csv\"\n",
    "test_FCM = pd.read_csv(file_path_testFCM)\n",
    "\n",
    "# Quantitative varaible test dataframe\n",
    "\n",
    "file_path_testQ = \"C:/Users/sitif/Downloads/WIDS/widsdatathon2025/TEST/TEST_QUANTITATIVE_METADATA.xlsx\"\n",
    "test_Quant = pd.read_excel(file_path_testQ)"
   ]
  },
  {
   "cell_type": "code",
   "execution_count": 33,
   "id": "fd555883",
   "metadata": {},
   "outputs": [],
   "source": [
    "test_cat.head()"
   ]
  },
  {
   "cell_type": "code",
   "execution_count": 1,
   "id": "b91c67ca",
   "metadata": {},
   "outputs": [
    {
     "data": {
      "text/plain": [
       "'hello'"
      ]
     },
     "execution_count": 1,
     "metadata": {},
     "output_type": "execute_result"
    }
   ],
   "source": [
    "\"hello\""
   ]
  },
  {
   "cell_type": "code",
   "execution_count": null,
   "id": "a8e2d8b2",
   "metadata": {},
   "outputs": [],
   "source": []
  }
 ],
 "metadata": {
  "kernelspec": {
   "display_name": "Python 3 (ipykernel)Python [conda env:base] *",
   "language": "python",
   "name": "conda-base-py"
  },
  "language_info": {
   "codemirror_mode": {
    "name": "ipython",
    "version": 3
   },
   "file_extension": ".py",
   "mimetype": "text/x-python",
   "name": "python",
   "nbconvert_exporter": "python",
   "pygments_lexer": "ipython3",
   "version": "3.12.8"
  },
  "nbdime-conflicts": {
   "local_diff": [
    {
     "diff": [
      {
       "diff": [
        {
         "key": 0,
         "length": 1,
         "op": "removerange"
        }
       ],
       "key": "display_name",
       "op": "patch"
      },
      {
       "diff": [
        {
         "key": 0,
         "op": "addrange",
         "valuelist": [
          "python3"
         ]
        },
        {
         "key": 0,
         "length": 1,
         "op": "removerange"
        }
       ],
       "key": "name",
       "op": "patch"
      }
     ],
     "key": "kernelspec",
     "op": "patch"
    }
   ],
   "remote_diff": [
    {
     "diff": [
      {
       "diff": [
        {
         "diff": [
          {
           "key": 18,
           "op": "addrange",
           "valuelist": "wids-d"
          },
          {
           "key": 18,
           "length": 1,
           "op": "removerange"
          },
          {
           "key": 20,
           "op": "addrange",
           "valuelist": "tathon"
          },
          {
           "key": 20,
           "length": 2,
           "op": "removerange"
          },
          {
           "key": 23,
           "length": 2,
           "op": "removerange"
          }
         ],
         "key": 0,
         "op": "patch"
        }
       ],
       "key": "display_name",
       "op": "patch"
      },
      {
       "diff": [
        {
         "key": 0,
         "op": "addrange",
         "valuelist": [
          "conda-env-wids-datathon-py"
         ]
        },
        {
         "key": 0,
         "length": 1,
         "op": "removerange"
        }
       ],
       "key": "name",
       "op": "patch"
      }
     ],
     "key": "kernelspec",
     "op": "patch"
    }
   ]
  }
 },
 "nbformat": 4,
 "nbformat_minor": 5
}
